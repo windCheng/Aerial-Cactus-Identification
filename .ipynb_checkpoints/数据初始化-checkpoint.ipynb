{
 "cells": [
  {
   "cell_type": "code",
   "execution_count": 2,
   "metadata": {},
   "outputs": [],
   "source": [
    "import tensorflow as tf\n",
    "import cv2\n",
    "import pandas as pd\n",
    "import numpy as np\n",
    "#训练集的dir\n",
    "dir_train_image = 'input/train/train/'\n",
    "dir_train_label = 'input/train/'\n",
    "# 测试集的dir\n",
    "dir_test_image = 'input/test/test/'\n",
    "dir_sub_label = 'input/test/'\n",
    "# 0.9999正确率的结果集合\n",
    "result_csv = pd.read_csv('0.9999.csv')\n",
    "#读取train.csv\n",
    "train_csv = pd.read_csv(dir_train_label+'train.csv')\n",
    "# 读取sample_submission.csv\n",
    "sub_csv = pd.read_csv(dir_sub_label+'sample_submission.csv')"
   ]
  },
  {
   "cell_type": "code",
   "execution_count": 3,
   "metadata": {},
   "outputs": [],
   "source": [
    "#获得每个图片的label\n",
    "def get_label(train_csv):\n",
    "    train_label = []\n",
    "    cactus_yes = train_csv['has_cactus']\n",
    "    for value in cactus_yes:\n",
    "        a=1\n",
    "        if value == 1:\n",
    "            a=0\n",
    "        train_label.append([value,a])\n",
    "    train_label = pd.DataFrame(train_label)\n",
    "    return train_label"
   ]
  },
  {
   "cell_type": "code",
   "execution_count": 4,
   "metadata": {},
   "outputs": [],
   "source": [
    "#获得图片名称\n",
    "def get_name(train_csv):\n",
    "    name = train_csv['id']\n",
    "    return name"
   ]
  },
  {
   "cell_type": "code",
   "execution_count": 5,
   "metadata": {},
   "outputs": [],
   "source": [
    "#将图片变成1维序列\n",
    "def toSerial(gray,image):\n",
    "    for i in range(32):\n",
    "        for j in range(32):\n",
    "            image.append(gray[i,j]/255.0)\n",
    "    return image"
   ]
  },
  {
   "cell_type": "code",
   "execution_count": 6,
   "metadata": {},
   "outputs": [],
   "source": [
    "#获得图片矩阵\n",
    "def get_image(dir_train_image,train_name):\n",
    "    train_image = []\n",
    "    for name in train_name:\n",
    "        image = []\n",
    "        img=cv2.imread(dir_train_image+name)\n",
    "        gray=cv2.cvtColor(img,cv2.COLOR_BGR2GRAY)\n",
    "        image = toSerial(gray,image)\n",
    "        train_image.append(image)\n",
    "    train_image = pd.DataFrame(train_image)\n",
    "    return train_image"
   ]
  },
  {
   "cell_type": "code",
   "execution_count": 7,
   "metadata": {
    "scrolled": true
   },
   "outputs": [],
   "source": [
    "train_label = get_label(train_csv)\n",
    "train_name = get_name(train_csv)\n",
    "train_image = get_image(dir_train_image,train_name)"
   ]
  },
  {
   "cell_type": "code",
   "execution_count": 8,
   "metadata": {},
   "outputs": [],
   "source": [
    "def get_hundred_images(train_image,i):\n",
    "    images = []\n",
    "    for j in range(100):\n",
    "        images.append(train_image.loc[i*100+j])\n",
    "    images = pd.DataFrame(images)\n",
    "    images = images\n",
    "    return images"
   ]
  },
  {
   "cell_type": "code",
   "execution_count": 9,
   "metadata": {},
   "outputs": [],
   "source": [
    "def get_hundred_labels(train_label,i):\n",
    "    labels = []\n",
    "    for j in range(100):\n",
    "        labels.append(train_label.loc[i*100+j])\n",
    "    labels = pd.DataFrame(labels)\n",
    "    labels = np.array(labels)\n",
    "    return labels\n",
    "labels = get_hundred_labels(train_label,0)"
   ]
  },
  {
   "cell_type": "code",
   "execution_count": 10,
   "metadata": {},
   "outputs": [],
   "source": [
    "test_name = get_name(sub_csv)\n",
    "test_image = get_image(dir_test_image,test_name)"
   ]
  },
  {
   "cell_type": "code",
   "execution_count": null,
   "metadata": {},
   "outputs": [],
   "source": []
  },
  {
   "cell_type": "code",
   "execution_count": 11,
   "metadata": {},
   "outputs": [],
   "source": [
    "#tensorflow语句声名\n",
    "#input\n",
    "imageInput = tf.placeholder(tf.float32,[None,1024]) # 32*32 \n",
    "labeInput = tf.placeholder(tf.float32,[None,2])\n",
    "#data reshape\n",
    "# [None,1024]->M*32*32*1  2D->4D  32*32 wh 1 channel \n",
    "imageInputReshape = tf.reshape(imageInput,[-1,32,32,1])\n",
    "#卷积 w0 : 卷积内核 5*5 out:32  in:1 \n",
    "w0 = tf.Variable(tf.truncated_normal([5,5,1,32],stddev = 0.1))\n",
    "b0 = tf.Variable(tf.constant(0.1,shape=[32]))\n",
    "# layer1：激励函数+卷积运算\n",
    "# imageInputReshape : M*32*32*1  w0:5,5,1,32  \n",
    "layer1 = tf.nn.relu(tf.nn.conv2d(imageInputReshape,w0,strides=[1,1,1,1],padding='SAME')+b0)\n",
    "#M*32*32*32\n",
    "#pool 采样 数据量减少很多M*32*32*32 => M*8*8*32\n",
    "layer1_pool = tf.nn.max_pool(layer1,ksize=[1,4,4,1],strides=[1,4,4,1],padding='SAME')\n",
    "#layer2 out : 激励函数+乘加运算：  softmax（激励函数 + 乘加运算）\n",
    "#[8*8*32,1024]\n",
    "w1 = tf.Variable(tf.truncated_normal([8*8*32,1024],stddev=0.1))\n",
    "b1 = tf.Variable(tf.constant(0.1,shape=[1024]))\n",
    "h_reshape = tf.reshape(layer1_pool,[-1,8*8*32])# M*8*8*32 -> N*N1\n",
    "# [N*8*8*32]  [8*8*32,1024] = N*1024\n",
    "h1 = tf.nn.relu(tf.matmul(h_reshape,w1)+b1)\n",
    "#softMax\n",
    "w2 = tf.Variable(tf.truncated_normal([1024,2],stddev=0.1))\n",
    "b2 = tf.Variable(tf.constant(0.1,shape=[2]))\n",
    "pred = tf.nn.softmax(tf.matmul(h1,w2)+b2)#N*1024  1024*2 = N*2\n",
    "# N*10( 概率 )N1【0.6 0.2】\n",
    "# label         【1 0】\n",
    "#计算lose\n",
    "loss0 = labeInput*tf.log(pred)\n",
    "loss1 = 0\n",
    "for m in range(0,100):\n",
    "    for n in range(0,2):\n",
    "        #因为求最小值，所以用'-'\n",
    "        loss1 = loss1 - loss0[m,n]\n",
    "loss = loss1/100\n",
    "#train\n",
    "train = tf.train.GradientDescentOptimizer(0.01).minimize(loss)"
   ]
  },
  {
   "cell_type": "code",
   "execution_count": 12,
   "metadata": {},
   "outputs": [
    {
     "name": "stdout",
     "output_type": "stream",
     "text": [
      "Tensor(\"Softmax:0\", shape=(?, 2), dtype=float32)\n"
     ]
    }
   ],
   "source": [
    "# run 训练模型\n",
    "# pred 数据预测\n",
    "with tf.Session() as sess:\n",
    "    sess.run(tf.global_variables_initializer())\n",
    "    for i in range(175):\n",
    "        images = get_hundred_images(train_image,i)\n",
    "        labels = get_hundred_labels(train_label,i)\n",
    "        sess.run(train,feed_dict={imageInput:images,labeInput:labels})\n",
    "    print(pred)\n",
    "    sub_label = sess.run(pred,feed_dict={imageInput:test_image})"
   ]
  },
  {
   "cell_type": "code",
   "execution_count": 27,
   "metadata": {},
   "outputs": [
    {
     "name": "stdout",
     "output_type": "stream",
     "text": [
      "[[0.9073617  0.0926383 ]\n",
      " [0.9500163  0.04998371]\n",
      " [0.60298264 0.39701733]\n",
      " ...\n",
      " [0.89348745 0.10651258]\n",
      " [0.88905346 0.11094657]\n",
      " [0.74971515 0.25028485]]\n"
     ]
    }
   ],
   "source": [
    "print(sub_label)"
   ]
  },
  {
   "cell_type": "code",
   "execution_count": 13,
   "metadata": {},
   "outputs": [],
   "source": [
    "# 保存结果\n",
    "sub = {'id':test_name,'has_cactus':sub_label[:,0]}\n",
    "sub = pd.DataFrame(sub)\n",
    "sub.to_csv('sample_submission.csv',index=0)\n",
    "result_label = get_label(result_csv)\n",
    "result_name = get_name(result_csv)\n"
   ]
  },
  {
   "cell_type": "code",
   "execution_count": 58,
   "metadata": {},
   "outputs": [
    {
     "name": "stdout",
     "output_type": "stream",
     "text": [
      "0.9055\n"
     ]
    }
   ],
   "source": [
    "loss = 0\n",
    "result_label = np.array(result_label)\n",
    "for i in range(4000):\n",
    "    name = test_name[i]\n",
    "    label = sub_label[i,0]\n",
    "    for j in  range(4000):\n",
    "        resultName = result_name[j]\n",
    "        resultLabel = result_label[j,0]\n",
    "        if name == resultName:\n",
    "            if resultLabel>0.5 and label<0.5:\n",
    "                loss = loss+1\n",
    "            if resultLabel<0.5 and label>0.5:\n",
    "                loss = loss+1\n",
    "loss = loss/4000.0\n",
    "print(1-loss)"
   ]
  },
  {
   "cell_type": "code",
   "execution_count": 57,
   "metadata": {},
   "outputs": [
    {
     "name": "stdout",
     "output_type": "stream",
     "text": [
      "5.90625e-09\n",
      "0.9999999999985234\n"
     ]
    }
   ],
   "source": []
  },
  {
   "cell_type": "code",
   "execution_count": null,
   "metadata": {},
   "outputs": [],
   "source": []
  }
 ],
 "metadata": {
  "kernelspec": {
   "display_name": "Python 3",
   "language": "python",
   "name": "python3"
  },
  "language_info": {
   "codemirror_mode": {
    "name": "ipython",
    "version": 3
   },
   "file_extension": ".py",
   "mimetype": "text/x-python",
   "name": "python",
   "nbconvert_exporter": "python",
   "pygments_lexer": "ipython3",
   "version": "3.6.8"
  }
 },
 "nbformat": 4,
 "nbformat_minor": 2
}
